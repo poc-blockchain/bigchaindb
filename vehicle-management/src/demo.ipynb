{
 "cells": [
  {
   "cell_type": "code",
   "execution_count": null,
   "metadata": {},
   "outputs": [],
   "source": [
    "print(1)"
   ]
  },
  {
   "cell_type": "code",
   "execution_count": null,
   "metadata": {},
   "outputs": [],
   "source": []
  }
 ],
 "metadata": {
  "kernelspec": {
   "display_name": "vehicle-management",
   "language": "python",
   "name": "vehicle-management"
  }
 },
 "nbformat": 4,
 "nbformat_minor": 2
}
